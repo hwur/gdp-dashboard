{
 "cells": [
  {
   "cell_type": "code",
   "execution_count": 5,
   "id": "2e07fd0f",
   "metadata": {},
   "outputs": [],
   "source": [
    "import pandas as pd\n",
    "\n",
    "df_full = pd.read_excel(\"Prognoser.xlsx\", sheet_name=\"Data\", header=[0,1], index_col=0)\n"
   ]
  },
  {
   "cell_type": "code",
   "execution_count": 24,
   "id": "e9fb4954",
   "metadata": {},
   "outputs": [
    {
     "data": {
      "text/html": [
       "<div>\n",
       "<style scoped>\n",
       "    .dataframe tbody tr th:only-of-type {\n",
       "        vertical-align: middle;\n",
       "    }\n",
       "\n",
       "    .dataframe tbody tr th {\n",
       "        vertical-align: top;\n",
       "    }\n",
       "\n",
       "    .dataframe thead th {\n",
       "        text-align: right;\n",
       "    }\n",
       "</style>\n",
       "<table border=\"1\" class=\"dataframe\">\n",
       "  <thead>\n",
       "    <tr style=\"text-align: right;\">\n",
       "      <th>Mydighet &amp; Datum</th>\n",
       "      <th>VÅP21</th>\n",
       "      <th>BP22</th>\n",
       "      <th>diff</th>\n",
       "    </tr>\n",
       "    <tr>\n",
       "      <th>År</th>\n",
       "      <th></th>\n",
       "      <th></th>\n",
       "      <th></th>\n",
       "    </tr>\n",
       "  </thead>\n",
       "  <tbody>\n",
       "    <tr>\n",
       "      <th>2020</th>\n",
       "      <td>-4.7</td>\n",
       "      <td>-4.8</td>\n",
       "      <td>0.1</td>\n",
       "    </tr>\n",
       "    <tr>\n",
       "      <th>2021</th>\n",
       "      <td>3.3</td>\n",
       "      <td>4.2</td>\n",
       "      <td>-0.9</td>\n",
       "    </tr>\n",
       "    <tr>\n",
       "      <th>2022</th>\n",
       "      <td>6.2</td>\n",
       "      <td>4.9</td>\n",
       "      <td>1.3</td>\n",
       "    </tr>\n",
       "    <tr>\n",
       "      <th>2023</th>\n",
       "      <td>2.8</td>\n",
       "      <td>2.8</td>\n",
       "      <td>0.0</td>\n",
       "    </tr>\n",
       "    <tr>\n",
       "      <th>2024</th>\n",
       "      <td>1.9</td>\n",
       "      <td>NaN</td>\n",
       "      <td>NaN</td>\n",
       "    </tr>\n",
       "  </tbody>\n",
       "</table>\n",
       "</div>"
      ],
      "text/plain": [
       "Mydighet & Datum  VÅP21  BP22  diff\n",
       "År                                 \n",
       "2020               -4.7  -4.8   0.1\n",
       "2021                3.3   4.2  -0.9\n",
       "2022                6.2   4.9   1.3\n",
       "2023                2.8   2.8   0.0\n",
       "2024                1.9   NaN   NaN"
      ]
     },
     "execution_count": 24,
     "metadata": {},
     "output_type": "execute_result"
    }
   ],
   "source": [
    "df_example=df_full.loc[\"Hushållens konsumtion\",(['VÅP21','BP22'],slice(None))].unstack(level=0)\n",
    "df_example['diff'] = df_example.iloc[:,0] - df_example.iloc[:,1]\n",
    "df_example"
   ]
  },
  {
   "cell_type": "code",
   "execution_count": 10,
   "id": "775c9fc9",
   "metadata": {},
   "outputs": [
    {
     "data": {
      "text/plain": [
       "MultiIndex([( 'ESV 17 november', 2020),\n",
       "            ( 'ESV 17 november', 2021),\n",
       "            ( 'ESV 17 november', 2022),\n",
       "            ( 'ESV 17 november', 2023),\n",
       "            ( 'ESV 17 november', 2024),\n",
       "            ( 'KI 29 September', 2020),\n",
       "            ( 'KI 29 September', 2021),\n",
       "            ( 'KI 29 September', 2022),\n",
       "            ( 'KI 29 September', 2023),\n",
       "            ( 'KI 29 September', 2024),\n",
       "            (            'BP22', 2020),\n",
       "            (            'BP22', 2021),\n",
       "            (            'BP22', 2022),\n",
       "            (            'BP22', 2023),\n",
       "            (              True, 2024),\n",
       "            ('ESV 10 september', 2020),\n",
       "            ('ESV 10 september', 2021),\n",
       "            ('ESV 10 september', 2022),\n",
       "            ('ESV 10 september', 2023),\n",
       "            ('ESV 10 september', 2024),\n",
       "            (  'REG 26 augusti', 2020),\n",
       "            (  'REG 26 augusti', 2021),\n",
       "            (  'REG 26 augusti', 2022),\n",
       "            (  'REG 26 augusti', 2023),\n",
       "            (  'REG 26 augusti', 2024),\n",
       "            (      'KI 23 juni', 2020),\n",
       "            (      'KI 23 juni', 2021),\n",
       "            (      'KI 23 juni', 2022),\n",
       "            (      'KI 23 juni', 2023),\n",
       "            (      'KI 23 juni', 2024),\n",
       "            (     'REG 23 juni', 2020),\n",
       "            (     'REG 23 juni', 2021),\n",
       "            (     'REG 23 juni', 2022),\n",
       "            (     'REG 23 juni', 2023),\n",
       "            (     'REG 23 juni', 2024),\n",
       "            (     'ESV 22 juni', 2020),\n",
       "            (     'ESV 22 juni', 2021),\n",
       "            (     'ESV 22 juni', 2022),\n",
       "            (     'ESV 22 juni', 2023),\n",
       "            (     'ESV 22 juni', 2024),\n",
       "            (           'VÅP21', 2020),\n",
       "            (           'VÅP21', 2021),\n",
       "            (           'VÅP21', 2022),\n",
       "            (           'VÅP21', 2023),\n",
       "            (           'VÅP21', 2024),\n",
       "            (      'KI 31 mars', 2020),\n",
       "            (      'KI 31 mars', 2021),\n",
       "            (      'KI 31 mars', 2022),\n",
       "            (      'KI 31 mars', 2023),\n",
       "            (      'KI 31 mars', 2024)],\n",
       "           names=['Mydighet & Datum', 'År '])"
      ]
     },
     "execution_count": 10,
     "metadata": {},
     "output_type": "execute_result"
    }
   ],
   "source": [
    "df_full.columns"
   ]
  }
 ],
 "metadata": {
  "kernelspec": {
   "display_name": "Python 3",
   "language": "python",
   "name": "python3"
  },
  "language_info": {
   "codemirror_mode": {
    "name": "ipython",
    "version": 3
   },
   "file_extension": ".py",
   "mimetype": "text/x-python",
   "name": "python",
   "nbconvert_exporter": "python",
   "pygments_lexer": "ipython3",
   "version": "3.11.12"
  }
 },
 "nbformat": 4,
 "nbformat_minor": 5
}
